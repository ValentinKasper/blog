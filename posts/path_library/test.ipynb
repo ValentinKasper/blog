{
 "cells": [
  {
   "cell_type": "markdown",
   "metadata": {},
   "source": [
    "---\n",
    "title: \"The pathlib library\"\n",
    "author: \"Valentin Kasper\"\n",
    "format: \n",
    "  html:\n",
    "    code-fold: false\n",
    "jupyter: python3\n",
    "date: \"2024-02-27\"\n",
    "categories: [news]\n",
    "---"
   ]
  },
  {
   "cell_type": "markdown",
   "metadata": {},
   "source": [
    "## The [pathlib](https://docs.python.org/3/library/pathlib.html) - library\n",
    "\n",
    "### What is the pathlib library?\n",
    "\n",
    "The pathlib library in Python is a standard utility for object-oriented file system path operations. It provides an easy-to-use interface for working with file system paths, making code that involves file and directory access more readable and Pythonic compared to the older os.path module.\n",
    "\n",
    "Here's a breakdown of some key features and benefits of pathlib:\n",
    "\n",
    "1. Object-Oriented Interface: pathlib introduces the Path object, which wraps file system paths as objects allowing for method calls and attribute access. This is a shift from the traditional string-based handling of file paths, enabling more intuitive and human-readable code.\n",
    "\n",
    "2. Path Manipulation: With pathlib, you can perform common path manipulations like joining paths, splitting file extensions, and checking the existence of files or directories directly through methods of Path objects. For example, Path('/usr/local') / 'bin' creates a new path by joining parts, which is more readable and eliminates the need for functions like os.path.join.\n",
    "\n",
    "3. File System Operations: Beyond path manipulation, pathlib offers methods to perform higher-level file system operations like reading from, writing to, and deleting files. This simplifies the code as you don't need to import additional modules like os or shutil for basic file operations.\n",
    "\n",
    "4. Portability and Compatibility: Paths represented by Path objects are automatically converted to the correct format for the operating system Python is running on. This means you can write code that is portable across OSes without worrying about the differences in file system path conventions.\n",
    "\n",
    "5. Globbing: The library provides built-in support for glob patterns, allowing you to list files under a directory matching a specific pattern directly through the Path object's methods, like glob or rglob."
   ]
  },
  {
   "cell_type": "markdown",
   "metadata": {},
   "source": [
    "### Current working directory\n",
    "\n",
    "You can use the **`pathlib`** module to get the current working directory in Python. Here is an example:"
   ]
  },
  {
   "cell_type": "code",
   "execution_count": 29,
   "metadata": {},
   "outputs": [
    {
     "name": "stdout",
     "output_type": "stream",
     "text": [
      "/home/vkasper\n"
     ]
    }
   ],
   "source": [
    "#| output: false\n",
    "from pathlib import Path\n",
    "cwd = Path.cwd() # Get the current working directory\n",
    "print(cwd)"
   ]
  },
  {
   "cell_type": "markdown",
   "metadata": {},
   "source": [
    "### Relative and absolute file path\n",
    "\n",
    "You can also use the **`pathlib`** module to to get the relative and absolut path"
   ]
  },
  {
   "cell_type": "code",
   "execution_count": 33,
   "metadata": {},
   "outputs": [
    {
     "name": "stdout",
     "output_type": "stream",
     "text": [
      "/home/vkasper\n"
     ]
    }
   ],
   "source": [
    "#| output: false\n",
    "abspath = cwd.absolute() # absolute path\n",
    "print(abspath)"
   ]
  },
  {
   "cell_type": "markdown",
   "metadata": {},
   "source": [
    "### Change directories using pathlib\n",
    "\n",
    "The **`pathlib`** module does not directly support changing the current working directory. However, you can combine **`pathlib`** with the **`os`** module to change the directories. Here we show how to move one directory up and how to move to the home directory."
   ]
  },
  {
   "cell_type": "code",
   "execution_count": 34,
   "metadata": {},
   "outputs": [],
   "source": [
    "#| output: false\n",
    "import os\n",
    "Path.cwd()\n",
    "new_directory = Path('..')\n",
    "os.chdir(new_directory)\n",
    "home_directory = Path.home()\n",
    "os.chdir(home_directory)"
   ]
  },
  {
   "cell_type": "markdown",
   "metadata": {},
   "source": [
    "### Creating files\n",
    "\n",
    "To create a new file using **`pathlib`**, you can use the **`Path.touch()`** method, which creates a file at a specified path. If the file already exists, **`touch()`** will update its modification time, similar to the Unix **`touch`** command. Here is an example:"
   ]
  },
  {
   "cell_type": "markdown",
   "metadata": {},
   "source": [
    "### Removing files\n",
    "\n",
    "To remove a file using the **`pathlib`** library in Python, you would use the `unlink()` method\n",
    "provided by the **`Path`** class. Here is how you can do it: "
   ]
  },
  {
   "cell_type": "code",
   "execution_count": 35,
   "metadata": {},
   "outputs": [],
   "source": [
    "# Create a Path object for the file you want to remove\n",
    "file_to_remove = Path('new_file.txt')"
   ]
  }
 ],
 "metadata": {
  "kernelspec": {
   "display_name": "blog",
   "language": "python",
   "name": "python3"
  },
  "language_info": {
   "codemirror_mode": {
    "name": "ipython",
    "version": 3
   },
   "file_extension": ".py",
   "mimetype": "text/x-python",
   "name": "python",
   "nbconvert_exporter": "python",
   "pygments_lexer": "ipython3",
   "version": "3.9.18"
  }
 },
 "nbformat": 4,
 "nbformat_minor": 2
}
